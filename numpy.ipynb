{
 "cells": [
  {
   "cell_type": "markdown",
   "metadata": {},
   "source": [
    "# **Introduction to NumPy**"
   ]
  },
  {
   "cell_type": "markdown",
   "metadata": {},
   "source": [
    "### **1. Install NumPy if you haven't already.**"
   ]
  },
  {
   "cell_type": "markdown",
   "metadata": {},
   "source": [
    "+ #### **Import numpy**"
   ]
  },
  {
   "cell_type": "code",
   "execution_count": 62,
   "metadata": {},
   "outputs": [],
   "source": [
    "import numpy as np  # type: ignore"
   ]
  },
  {
   "cell_type": "markdown",
   "metadata": {},
   "source": [
    "### **2. Create a 1D NumPy array of 10 random integers between 0 and 100.**"
   ]
  },
  {
   "cell_type": "code",
   "execution_count": 63,
   "metadata": {},
   "outputs": [
    {
     "name": "stdout",
     "output_type": "stream",
     "text": [
      "1_D array: [36 24 22 15 82 85 97 85 48 43]\n"
     ]
    }
   ],
   "source": [
    "arr1= np.random.randint(0,100,10) \n",
    "print(\"1_D array:\", arr1)"
   ]
  },
  {
   "cell_type": "code",
   "execution_count": 64,
   "metadata": {},
   "outputs": [
    {
     "data": {
      "text/plain": [
       "(10,)"
      ]
     },
     "execution_count": 64,
     "metadata": {},
     "output_type": "execute_result"
    }
   ],
   "source": [
    "arr1.shape"
   ]
  },
  {
   "cell_type": "code",
   "execution_count": 65,
   "metadata": {},
   "outputs": [
    {
     "data": {
      "text/plain": [
       "1"
      ]
     },
     "execution_count": 65,
     "metadata": {},
     "output_type": "execute_result"
    }
   ],
   "source": [
    "arr1.ndim"
   ]
  },
  {
   "cell_type": "markdown",
   "metadata": {},
   "source": [
    "### **3. Reshape the 1D array into a 2D array (2x5).**"
   ]
  },
  {
   "cell_type": "code",
   "execution_count": 66,
   "metadata": {},
   "outputs": [
    {
     "data": {
      "text/plain": [
       "array([[36, 24, 22, 15, 82, 85, 97, 85, 48, 43]])"
      ]
     },
     "execution_count": 66,
     "metadata": {},
     "output_type": "execute_result"
    }
   ],
   "source": [
    "arr2= arr1[np.newaxis, :]\n",
    "arr2"
   ]
  },
  {
   "cell_type": "code",
   "execution_count": 67,
   "metadata": {},
   "outputs": [
    {
     "name": "stdout",
     "output_type": "stream",
     "text": [
      "2_D array: \n",
      " [[36 24 22 15 82]\n",
      " [85 97 85 48 43]]\n"
     ]
    }
   ],
   "source": [
    "arr2= arr1.reshape(2,5)\n",
    "print(\"2_D array: \\n\", arr2)"
   ]
  },
  {
   "cell_type": "code",
   "execution_count": 68,
   "metadata": {},
   "outputs": [
    {
     "data": {
      "text/plain": [
       "2"
      ]
     },
     "execution_count": 68,
     "metadata": {},
     "output_type": "execute_result"
    }
   ],
   "source": [
    "arr2.ndim"
   ]
  },
  {
   "cell_type": "markdown",
   "metadata": {},
   "source": [
    "# **Basic Operations** "
   ]
  },
  {
   "cell_type": "markdown",
   "metadata": {},
   "source": [
    "### **1. Perform element-wise addition, subtraction, multiplication, and division on two NumPy arrays.**"
   ]
  },
  {
   "cell_type": "markdown",
   "metadata": {},
   "source": [
    "##### We concider the index of two arrays as a two diffferent arrays. "
   ]
  },
  {
   "cell_type": "code",
   "execution_count": 69,
   "metadata": {},
   "outputs": [
    {
     "data": {
      "text/plain": [
       "array([36, 24, 22, 15, 82])"
      ]
     },
     "execution_count": 69,
     "metadata": {},
     "output_type": "execute_result"
    }
   ],
   "source": [
    "arr2[0] # index of above array "
   ]
  },
  {
   "cell_type": "code",
   "execution_count": 70,
   "metadata": {},
   "outputs": [
    {
     "data": {
      "text/plain": [
       "array([85, 97, 85, 48, 43])"
      ]
     },
     "execution_count": 70,
     "metadata": {},
     "output_type": "execute_result"
    }
   ],
   "source": [
    "arr2[1] # index of above array "
   ]
  },
  {
   "cell_type": "code",
   "execution_count": 71,
   "metadata": {},
   "outputs": [
    {
     "name": "stdout",
     "output_type": "stream",
     "text": [
      "Addition: \n",
      " [121 121 107  63 125]\n"
     ]
    }
   ],
   "source": [
    "Addition= arr2[0]+arr2[1] # adding the arrays \n",
    "print(\"Addition: \\n\", Addition)"
   ]
  },
  {
   "cell_type": "code",
   "execution_count": 72,
   "metadata": {},
   "outputs": [
    {
     "name": "stdout",
     "output_type": "stream",
     "text": [
      "Subtraction: \n",
      "  [-49 -73 -63 -33  39]\n"
     ]
    }
   ],
   "source": [
    "Subtraction= arr2[0]- arr2[1] # substract the arrays\n",
    "print(\"Subtraction: \\n \", Subtraction)"
   ]
  },
  {
   "cell_type": "code",
   "execution_count": 73,
   "metadata": {},
   "outputs": [
    {
     "name": "stdout",
     "output_type": "stream",
     "text": [
      "Multiplication: \n",
      " [3060 2328 1870  720 3526]\n"
     ]
    }
   ],
   "source": [
    "Multiplication= arr2[0]* arr2[1] # multiplication of arrays \n",
    "print(\"Multiplication: \\n\", Multiplication)"
   ]
  },
  {
   "cell_type": "code",
   "execution_count": 74,
   "metadata": {},
   "outputs": [
    {
     "name": "stdout",
     "output_type": "stream",
     "text": [
      "Division: \n",
      " [0.42352941 0.24742268 0.25882353 0.3125     1.90697674]\n"
     ]
    }
   ],
   "source": [
    "Division= arr2[0]/ arr2[1] # division of arrays \n",
    "print(\"Division: \\n\", Division)"
   ]
  },
  {
   "cell_type": "markdown",
   "metadata": {},
   "source": [
    "### **2. Calculate the mean, median, standard deviation, and variance of a NumPy array.**"
   ]
  },
  {
   "cell_type": "code",
   "execution_count": 75,
   "metadata": {},
   "outputs": [
    {
     "data": {
      "text/plain": [
       "array([36, 24, 22, 15, 82, 85, 97, 85, 48, 43])"
      ]
     },
     "execution_count": 75,
     "metadata": {},
     "output_type": "execute_result"
    }
   ],
   "source": [
    "arr1"
   ]
  },
  {
   "cell_type": "markdown",
   "metadata": {},
   "source": [
    "#### **Mean (Average):**\n",
    "+ ##### The mean is the sum of all the values in a dataset divided by the total number of values.\n",
    "+ ##### It represents the central tendency or the \"average\" value of the dataset.\n",
    "+ ##### Mathematically, the mean is calculated as: mean = (sum of all values) / (number of values)"
   ]
  },
  {
   "cell_type": "code",
   "execution_count": 76,
   "metadata": {},
   "outputs": [
    {
     "name": "stdout",
     "output_type": "stream",
     "text": [
      "Mean: 53.7\n"
     ]
    }
   ],
   "source": [
    "mean = np.mean(arr1) \n",
    "print(\"Mean:\", mean)"
   ]
  },
  {
   "cell_type": "markdown",
   "metadata": {},
   "source": [
    "#### **Median:**\n",
    "+ ##### The median is the middle value in a dataset when the values are arranged in numerical order.\n",
    "+ ##### If the dataset has an even number of values, the median is the average of the two middle values.\n",
    "+ ##### The median is a measure of central tendency that is less affected by outliers compared to the mean."
   ]
  },
  {
   "cell_type": "code",
   "execution_count": 77,
   "metadata": {},
   "outputs": [
    {
     "name": "stdout",
     "output_type": "stream",
     "text": [
      "Median: 45.5\n"
     ]
    }
   ],
   "source": [
    "median = np.median(arr1)\n",
    "print(\"Median:\", median)"
   ]
  },
  {
   "cell_type": "markdown",
   "metadata": {},
   "source": [
    "#### **Standard Deviation:**\n",
    "+ ##### Standard deviation is a measure of the spread or dispersion of a dataset around its mean.\n",
    "+ ##### It represents the average amount of deviation of each value from the mean.\n",
    "+ ##### Mathematically, the standard deviation is calculated as: sqrt(sum of squared deviations from mean / number of values).\n",
    "+ ##### A higher standard deviation indicates that the values are more spread out, while a lower standard deviation indicates that the values are more tightly clustered around the mean."
   ]
  },
  {
   "cell_type": "code",
   "execution_count": 78,
   "metadata": {},
   "outputs": [
    {
     "name": "stdout",
     "output_type": "stream",
     "text": [
      "Standard Deviation: 29.120611257320817\n"
     ]
    }
   ],
   "source": [
    "std_dev = np.std(arr1)\n",
    "print(\"Standard Deviation:\", std_dev)"
   ]
  },
  {
   "cell_type": "markdown",
   "metadata": {},
   "source": [
    "#### **Variance:** \n",
    "+ ##### Variance is a measure of the average squared deviation from the mean.\n",
    "+ ##### It is calculated as the square of the standard deviation.\n",
    "+ ##### Variance is useful for quantifying the overall spread or dispersion of a dataset.\n",
    "+ ##### Mathematically, the variance is calculated as: (sum of squared deviations from mean) / (number of values)."
   ]
  },
  {
   "cell_type": "code",
   "execution_count": 79,
   "metadata": {},
   "outputs": [
    {
     "name": "stdout",
     "output_type": "stream",
     "text": [
      "Variance: 848.0099999999999\n"
     ]
    }
   ],
   "source": [
    "variance = np.var(arr1)\n",
    "print(\"Variance:\", variance)"
   ]
  },
  {
   "cell_type": "markdown",
   "metadata": {},
   "source": [
    "#### **Mean and Median Visualization:**"
   ]
  },
  {
   "cell_type": "code",
   "execution_count": 80,
   "metadata": {},
   "outputs": [
    {
     "data": {
      "image/png": "[encoded data removed]",
      "text/plain": [
       "<Figure size 800x600 with 1 Axes>"
      ]
     },
     "metadata": {},
     "output_type": "display_data"
    }
   ],
   "source": [
    "import matplotlib.pyplot as plt\n",
    "\n",
    "plt.figure(figsize=(8, 6))\n",
    "plt.hist(arr1, bins=30, edgecolor='black')\n",
    "plt.axvline(x=mean, color='r', linestyle='--', label='Mean')\n",
    "plt.axvline(x=median, color='g', linestyle='--', label='Median')\n",
    "plt.xlabel('Value')\n",
    "plt.ylabel('Frequency')\n",
    "plt.title('Mean, Median, and Mode')\n",
    "plt.legend()\n",
    "plt.show()"
   ]
  },
  {
   "cell_type": "markdown",
   "metadata": {},
   "source": [
    "#### **Standard Deviation Visualization:**"
   ]
  },
  {
   "cell_type": "code",
   "execution_count": 82,
   "metadata": {},
   "outputs": [
    {
     "data": {
      "image/png": "[encoded data removed]",
      "text/plain": [
       "<Figure size 800x600 with 1 Axes>"
      ]
     },
     "metadata": {},
     "output_type": "display_data"
    }
   ],
   "source": [
    "plt.figure(figsize=(8, 6))\n",
    "plt.hist(arr1, bins=30, edgecolor='black')\n",
    "plt.axvline(x=np.mean(arr1) - std_dev, color='r', linestyle='--', label='-1 Standard Deviation')\n",
    "plt.axvline(x=np.mean(arr1) + std_dev, color='r', linestyle='--', label='+1 Standard Deviation')\n",
    "plt.axvline(x=np.mean(arr1) - 2 * std_dev, color='g', linestyle='--', label='-2 Standard Deviation')\n",
    "plt.axvline(x=np.mean(arr1) + 2 * std_dev, color='g', linestyle='--', label='+2 Standard Deviation')\n",
    "plt.xlabel('Value')\n",
    "plt.ylabel('Frequency')\n",
    "plt.title('Standard Deviation')\n",
    "plt.legend()\n",
    "plt.show()"
   ]
  },
  {
   "cell_type": "markdown",
   "metadata": {},
   "source": [
    "#### **Variance Visualization:**"
   ]
  },
  {
   "cell_type": "code",
   "execution_count": 83,
   "metadata": {},
   "outputs": [
    {
     "data": {
      "image/png": "[encoded data removed]",
      "text/plain": [
       "<Figure size 800x600 with 1 Axes>"
      ]
     },
     "metadata": {},
     "output_type": "display_data"
    }
   ],
   "source": [
    "plt.figure(figsize=(8, 6))\n",
    "plt.hist(arr1, bins=30, edgecolor='black')\n",
    "plt.axvline(x=np.mean(arr1) - np.sqrt(variance), color='r', linestyle='--', label='-1 Standard Deviation')\n",
    "plt.axvline(x=np.mean(arr1) + np.sqrt(variance), color='r', linestyle='--', label='+1 Standard Deviation')\n",
    "plt.axvline(x=np.mean(arr1) - 2 * np.sqrt(variance), color='g', linestyle='--', label='-2 Standard Deviation')\n",
    "plt.axvline(x=np.mean(arr1) + 2 * np.sqrt(variance), color='g', linestyle='--', label='+2 Standard Deviation')\n",
    "plt.xlabel('Value')\n",
    "plt.ylabel('Frequency')\n",
    "plt.title('Variance')\n",
    "plt.legend()\n",
    "plt.show()"
   ]
  },
  {
   "cell_type": "markdown",
   "metadata": {},
   "source": [
    "# **Indexing and Slicing**"
   ]
  },
  {
   "cell_type": "markdown",
   "metadata": {},
   "source": [
    "### **1. Extract a subarray from a 2D NumPy array.**"
   ]
  },
  {
   "cell_type": "code",
   "execution_count": null,
   "metadata": {},
   "outputs": [
    {
     "data": {
      "text/plain": [
       "array([[79, 34, 30,  7, 45],\n",
       "       [ 4,  9, 50, 64, 69]])"
      ]
     },
     "execution_count": 51,
     "metadata": {},
     "output_type": "execute_result"
    }
   ],
   "source": [
    "arr2"
   ]
  },
  {
   "cell_type": "code",
   "execution_count": null,
   "metadata": {},
   "outputs": [
    {
     "name": "stdout",
     "output_type": "stream",
     "text": [
      "Subarray:\n",
      "[[30  7]\n",
      " [50 64]]\n"
     ]
    }
   ],
   "source": [
    "subarray = arr2[0:2, 2:4] # [row index : column index , row index : column index ] \n",
    "print(\"Subarray:\")\n",
    "print(subarray)"
   ]
  },
  {
   "cell_type": "markdown",
   "metadata": {},
   "source": [
    "### **2. Select specific rows and columns from a 2D array using slicing.**"
   ]
  },
  {
   "cell_type": "markdown",
   "metadata": {},
   "source": [
    "+ ##### Slicing is a way of extract a subset of data from a numpay array. "
   ]
  },
  {
   "cell_type": "code",
   "execution_count": null,
   "metadata": {},
   "outputs": [
    {
     "name": "stdout",
     "output_type": "stream",
     "text": [
      "Subarray: [ 4  9 50 64 69]\n",
      "Subarray: [ 7 64]\n"
     ]
    }
   ],
   "source": [
    "subarray1 = arr2[1,:] # select rows ([1,:] means 1 row index , (column index) empty means select all column : number of steps )\n",
    "print(\"Subarray:\", subarray1)\n",
    "subarray2 = arr2[:, 3] # select column \n",
    "print(\"Subarray:\", subarray2)\n",
    "\n"
   ]
  },
  {
   "cell_type": "markdown",
   "metadata": {},
   "source": [
    "# **Advanced Operations**"
   ]
  },
  {
   "cell_type": "markdown",
   "metadata": {},
   "source": [
    "### **1. Perform matrix multiplication using two 2D arrays.**"
   ]
  },
  {
   "cell_type": "markdown",
   "metadata": {},
   "source": [
    "##### Remember: To perform multiplication of two matrices, we should make sure that the number of columns in the 1st matrix is equal to the rows in the 2nd matrix. Therefore, the resulting matrix product will have a number of rows of the 1st matrix and a number of columns of the 2nd matrix. The order of the resulting matrix is the matrix multiplication order."
   ]
  },
  {
   "cell_type": "code",
   "execution_count": null,
   "metadata": {},
   "outputs": [
    {
     "name": "stdout",
     "output_type": "stream",
     "text": [
      "Array 1: \n",
      " [[ 1  5  6]\n",
      " [ 6  8  8]\n",
      " [ 1  5 17]]\n",
      "Array 2: \n",
      " [[ 0  3  5]\n",
      " [ 1  2  5]\n",
      " [12  7 25]]\n",
      "Matrix Multiplication: \n",
      " [[ 77  55 180]\n",
      " [104  90 270]\n",
      " [209 132 455]]\n"
     ]
    }
   ],
   "source": [
    "a1= np.array([[1,5,6],[6,8,8],[1,5,17]]) # 1st array (1st matrix) (3 by 3)\n",
    "a2= np.array([[0,3,5],[1,2,5],[12,7,25]]) # 2nd array (2nd matrix) (3 by 3)\n",
    "print(\"Array 1: \\n\", a1)\n",
    "print(\"Array 2: \\n\", a2)\n",
    "\n",
    "matrix_multiplication= np.matmul(a1,a2) # used for matrix miltiplication\n",
    "print(\"Matrix Multiplication: \\n\", matrix_multiplication)"
   ]
  },
  {
   "cell_type": "code",
   "execution_count": null,
   "metadata": {},
   "outputs": [
    {
     "data": {
      "text/plain": [
       "2"
      ]
     },
     "execution_count": 55,
     "metadata": {},
     "output_type": "execute_result"
    }
   ],
   "source": [
    "a1.ndim"
   ]
  },
  {
   "cell_type": "markdown",
   "metadata": {},
   "source": [
    "### **2. Compute the dot product of two vectors.**"
   ]
  },
  {
   "cell_type": "markdown",
   "metadata": {},
   "source": [
    "+ #### **Let there be two vectors [6, 2, -1] and [5, -8, 2]. Find the dot product of the vectors.**"
   ]
  },
  {
   "cell_type": "code",
   "execution_count": null,
   "metadata": {},
   "outputs": [
    {
     "name": "stdout",
     "output_type": "stream",
     "text": [
      "Dot Product: \n",
      " 12\n"
     ]
    }
   ],
   "source": [
    "a3= np.array([6,2,-1]) # 1st vector \n",
    "a4= np.array([5,-8,2]) # 2nd vector  \n",
    "dot_product = np.dot(a3,a4)\n",
    "\n",
    "print(\"Dot Product: \\n\", dot_product) # used to find dot product of two vectors. "
   ]
  },
  {
   "cell_type": "markdown",
   "metadata": {},
   "source": [
    "### **3. Use NumPy to solve a system of linear equations.**"
   ]
  },
  {
   "cell_type": "markdown",
   "metadata": {},
   "source": [
    "+ #### **Solve system of linear equations and find values of x,y,z : 2x + 3y + z= 8 , 4x + y + 2z = 5 , x + 6y + z = 1**\n",
    "\n"
   ]
  },
  {
   "cell_type": "code",
   "execution_count": null,
   "metadata": {},
   "outputs": [
    {
     "name": "stdout",
     "output_type": "stream",
     "text": [
      "Solution: \n",
      " [ 13.6   2.2 -25.8]\n"
     ]
    }
   ],
   "source": [
    "e1= np.array([[2,3,1], [4,1,2], [1,6,1]]) \n",
    "e2= np.array([8,5,1])\n",
    "solution= np.linalg.solve(e1,e2) # used to solve linear equations.\n",
    "print(\"Solution: \\n\", solution) "
   ]
  },
  {
   "cell_type": "markdown",
   "metadata": {},
   "source": [
    "# **Applying Functions**"
   ]
  },
  {
   "cell_type": "markdown",
   "metadata": {},
   "source": [
    "### **1. Apply a custom function to each element of a NumPy array.**"
   ]
  },
  {
   "cell_type": "code",
   "execution_count": null,
   "metadata": {},
   "outputs": [
    {
     "name": "stdout",
     "output_type": "stream",
     "text": [
      "Array: \n",
      " [[1 2 3]\n",
      " [4 5 6]\n",
      " [7 8 9]]\n",
      "Vectorized: \n",
      " [['odd' 'even' 'odd']\n",
      " ['even' 'odd' 'even']\n",
      " ['odd' 'even' 'odd']]\n"
     ]
    }
   ],
   "source": [
    "# let consider the x array of system of linear equations \n",
    "x= np.array([\n",
    "    [1,2,3],\n",
    "    [4,5,6],\n",
    "    [7,8,9]\n",
    "    ])\n",
    "print(\"Array: \\n\", x)\n",
    "# define a function when we want to check the vales of system of linear equation either even or odd. \n",
    "def f(value): \n",
    "    if value%2==0 :\n",
    "        value= \"even\"\n",
    "    else: \n",
    "        value= \"odd\"\n",
    "    return value\n",
    "f_vectorized= np.vectorize(f)\n",
    "y= f_vectorized(x)\n",
    "print(\"Vectorized: \\n\", y)\n"
   ]
  },
  {
   "cell_type": "code",
   "execution_count": null,
   "metadata": {},
   "outputs": [
    {
     "name": "stdout",
     "output_type": "stream",
     "text": [
      "Original Array: [1 2 3 4 5]\n",
      "Squared Array: [0 0 1 1 1]\n"
     ]
    }
   ],
   "source": [
    "y = np.array([1, 2, 3, 4, 5])\n",
    "print(\"Original Array:\", y)\n",
    "\n",
    "# define a function if you want the square of all values in y \n",
    "def square(x):\n",
    "    return x // 3\n",
    "\n",
    "squared_y = np.apply_along_axis(square, axis=0, arr=y)\n",
    "print(\"Squared Array:\", squared_y)"
   ]
  },
  {
   "cell_type": "markdown",
   "metadata": {},
   "source": [
    "### **2. Use vectorized operations to perform element-wise computations on an array.**"
   ]
  },
  {
   "cell_type": "markdown",
   "metadata": {},
   "source": [
    "##### Vectorization is a powerful concept in computer programming that allows you to perform operations on entire lists or arrays of data at once, rather than iterating over each element individually. This can lead to significant speedups, especially when working with large datasets or complex computations.\n",
    "\n",
    "##### we use the example of dividing each element in a list of numbers by 2, and show how using vectorization can take advantage of parallel computing capabilities and other optimizations to achieve a speedup of over 100x compared to a naive for loop implementation."
   ]
  },
  {
   "cell_type": "code",
   "execution_count": null,
   "metadata": {},
   "outputs": [
    {
     "name": "stdout",
     "output_type": "stream",
     "text": [
      "Original Array: \n",
      " [ 1  2  3  4  5  6  7  8  9 20 11 12 13 14 15 16 17 18 19 20]\n",
      "Divided by 2: \n",
      "  [ 0.5  1.   1.5  2.   2.5  3.   3.5  4.   4.5 10.   5.5  6.   6.5  7.\n",
      "  7.5  8.   8.5  9.   9.5 10. ]\n",
      "Apply equation: \n",
      "  [  7  12  19  28  39  52  67  84 103 444 147 172 199 228 259 292 327 364\n",
      " 403 444]\n",
      "Squared Array: \n",
      "  [  1   4   9  16  25  36  49  64  81 400 121 144 169 196 225 256 289 324\n",
      " 361 400]\n",
      "Cubed Array: \n",
      "  [   1    8   27   64  125  216  343  512  729 8000 1331 1728 2197 2744\n",
      " 3375 4096 4913 5832 6859 8000]\n"
     ]
    }
   ],
   "source": [
    "z = np.array([1, 2, 3, 4, 5, 6, 7, 8, 9, 20, 11, 12, 13, 14, 15, 16, 17, 18, 19, 20])\n",
    "\n",
    "# Apply Different Functions \n",
    "dividing_by_2 = z / 2\n",
    "equation= z ** 2 + 2 * z + 4\n",
    "squared_z = z ** 2\n",
    "cubed_z = z ** 3\n",
    "\n",
    "print(\"Original Array: \\n\", z)\n",
    "print(\"Divided by 2: \\n \", dividing_by_2)\n",
    "print(\"Apply equation: \\n \", equation)\n",
    "print(\"Squared Array: \\n \", squared_z)\n",
    "print(\"Cubed Array: \\n \", cubed_z)"
   ]
  },
  {
   "cell_type": "markdown",
   "metadata": {},
   "source": [
    "# ............................................**THE END :)** ............................................"
   ]
  }
 ],
 "metadata": {
  "kernelspec": {
   "display_name": "Python 3",
   "language": "python",
   "name": "python3"
  },
  "language_info": {
   "codemirror_mode": {
    "name": "ipython",
    "version": 3
   },
   "file_extension": ".py",
   "mimetype": "text/x-python",
   "name": "python",
   "nbconvert_exporter": "python",
   "pygments_lexer": "ipython3",
   "version": "3.12.4"
  }
 },
 "nbformat": 4,
 "nbformat_minor": 2
}
